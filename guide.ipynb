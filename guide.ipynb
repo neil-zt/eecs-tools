{
 "cells": [
  {
   "attachments": {},
   "cell_type": "markdown",
   "metadata": {},
   "source": [
    "# EECS Tools  \n",
    "\n",
    "A collection of handy functions for introductory ECE/EECS courses. These functions are designed to assist students to quickly calculate what they want during exams. To maximize simplicity, there is no structured OOP practices here, simply functions. \n",
    "\n",
    "## Setting Started \n",
    "\n",
    "Start by importing the functions you need from the files: "
   ]
  },
  {
   "cell_type": "code",
   "execution_count": 1,
   "metadata": {},
   "outputs": [],
   "source": [
    "from Steady import *\n",
    "from Dynamic import *\n",
    "from Digital import *\n",
    "from Util import *"
   ]
  },
  {
   "attachments": {},
   "cell_type": "markdown",
   "metadata": {},
   "source": [
    "## Code Examples\n",
    "\n",
    "### `SteadyDC`"
   ]
  },
  {
   "attachments": {},
   "cell_type": "markdown",
   "metadata": {},
   "source": [
    "Convert (in DC) between voltage, resistance, current, and power with `V`, `R`, `I`, and `P`: "
   ]
  },
  {
   "cell_type": "code",
   "execution_count": 3,
   "metadata": {},
   "outputs": [
    {
     "name": "stdout",
     "output_type": "stream",
     "text": [
      "2.0\n",
      "30.0\n",
      "1.2\n",
      "500\n"
     ]
    },
    {
     "data": {
      "text/plain": [
       "'output ends'"
      ]
     },
     "execution_count": 3,
     "metadata": {},
     "output_type": "execute_result"
    }
   ],
   "source": [
    "R(v=60, i=30)\n",
    "V(p=60, r=15)\n",
    "I(r=100, v=120)\n",
    "P(i=10, r=5)\n",
    "\"output ends\""
   ]
  },
  {
   "attachments": {},
   "cell_type": "markdown",
   "metadata": {},
   "source": [
    "Calculate (in DC) the equivalent resistance of resistances, in parallel and in series: "
   ]
  },
  {
   "cell_type": "code",
   "execution_count": 4,
   "metadata": {},
   "outputs": [
    {
     "name": "stdout",
     "output_type": "stream",
     "text": [
      "60.0\n",
      "560.0\n"
     ]
    },
    {
     "data": {
      "text/plain": [
       "'output ends'"
      ]
     },
     "execution_count": 4,
     "metadata": {},
     "output_type": "execute_result"
    }
   ],
   "source": [
    "series(rs=[100, 400, parallel(rs=[120, 120])])\n",
    "\"output ends\""
   ]
  }
 ],
 "metadata": {
  "kernelspec": {
   "display_name": "Python 3",
   "language": "python",
   "name": "python3"
  },
  "language_info": {
   "codemirror_mode": {
    "name": "ipython",
    "version": 3
   },
   "file_extension": ".py",
   "mimetype": "text/x-python",
   "name": "python",
   "nbconvert_exporter": "python",
   "pygments_lexer": "ipython3",
   "version": "3.9.10"
  },
  "orig_nbformat": 4,
  "vscode": {
   "interpreter": {
    "hash": "aee8b7b246df8f9039afb4144a1f6fd8d2ca17a180786b69acc140d282b71a49"
   }
  }
 },
 "nbformat": 4,
 "nbformat_minor": 2
}
